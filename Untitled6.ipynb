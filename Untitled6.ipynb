{
 "cells": [
  {
   "cell_type": "code",
   "execution_count": 1,
   "metadata": {
    "collapsed": false
   },
   "outputs": [
    {
     "name": "stdout",
     "output_type": "stream",
     "text": [
      "enter a number: 4\n",
      "64\n"
     ]
    }
   ],
   "source": [
    "def exercise(x):   \n",
    "    \"\"\"Describe your solution approach\"\"\"\n",
    "    return(x**3)\n",
    "answer = int(input('enter a number: '))    \n",
    "y = exercise(answer)\n",
    "print(y)"
   ]
  },
  {
   "cell_type": "code",
   "execution_count": null,
   "metadata": {
    "collapsed": true
   },
   "outputs": [],
   "source": [
    "def exercise(x):\n",
    "    \"\"\"Describe your solution approach\"\"\"\n",
    "    return(5.0 / 9.0 * (x - 32.0) + 273)\n",
    "\n",
    "temp = int(input('enter a number: '))\n",
    "y = exercise(temp)\n",
    "print(y)"
   ]
  }
 ],
 "metadata": {
  "kernelspec": {
   "display_name": "Python [conda root]",
   "language": "python",
   "name": "conda-root-py"
  },
  "language_info": {
   "codemirror_mode": {
    "name": "ipython",
    "version": 3
   },
   "file_extension": ".py",
   "mimetype": "text/x-python",
   "name": "python",
   "nbconvert_exporter": "python",
   "pygments_lexer": "ipython3",
   "version": "3.5.2"
  }
 },
 "nbformat": 4,
 "nbformat_minor": 1
}
